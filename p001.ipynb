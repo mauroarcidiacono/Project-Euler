{
 "cells": [
  {
   "cell_type": "markdown",
   "metadata": {},
   "source": [
    "# Project Euler: Problem 1\n",
    "\n",
    "If we list all the natural numbers below 10 that are multiples of 3 or 5, we get 3, 5, 6 and 9. The sum of these multiples is 23.\n",
    "\n",
    "Find the sum of all the multiples of 3 or 5 below 1000."
   ]
  },
  {
   "cell_type": "markdown",
   "metadata": {},
   "source": [
    "<p> It is tempting to try to solve this problem in a very simple way. A possible solution could look like this: </p>"
   ]
  },
  {
   "cell_type": "code",
   "execution_count": 9,
   "metadata": {},
   "outputs": [
    {
     "data": {
      "text/plain": [
       "233168"
      ]
     },
     "execution_count": 9,
     "metadata": {},
     "output_type": "execute_result"
    }
   ],
   "source": [
    "sum([x for x in range(1000) if x%3 == 0 or x%5 == 0])"
   ]
  },
  {
   "cell_type": "markdown",
   "metadata": {},
   "source": [
    "The issue with the previous line of code is that the computational cost is high because the for loop evaluates the if conditions for each number. As an example, I tested the code with 1000000000 (one billion) and my computer printed the answer in 1m 20.5s. I will try to optimize the solution to reduce that time. Additionally, I would like to create a more general solution that will be able to take more than one number and that will be able to provide the sum of all the multiples of 3 or 5 below each input.\n",
    "\n",
    "If I want to sum all the integers from 1 to a 100, I could simply take the tedious task of adding one number after the other. There is a tale that says that Carl Friedrich Gauss solved this problem when he was in primary school. The strategy to simplify the task is to observe the following:\n",
    "$$\n",
    "1 + 100 = 101 \\\\\n",
    "2 + 99 = 101 \\\\\n",
    "3 + 98 = 101 \\\\\n",
    "…  \\\\\n",
    "50 + 51 = 101  \\\\\n",
    "$$\n",
    "Therefore, the sum of all integers from 1 to a 100 can be expressed as 101*50 which is 5050. With this concept, the sum of consecutive integers can be generalized as follows:\n",
    "$$ \\sum_{1}^{n}i = \\frac{n(n + 1)}{2} $$\n",
    "\n",
    "To implement this concept in the solution of the problem, the sum of the ordered multiples of a number should be expressed as that number times a series. For example, for 3 up to 15:\n",
    "\n",
    "$$ 3 + 6 + 9 + 12 + 15 = 3*(1 + 2 + 3 + 4 + 5) $$\n",
    "\n",
    "The addition in the parenthesis can be solved with the equation that I presented earlier, where n equals 5. For each case, n has to be determined and this can be done by dividing 1000, or any other number, by 3 and 5. This results in the following:\n",
    "\n",
    "$$ sum = \\frac{n_{(3)}(n_{(3)} + 1)}{2} + \\frac{n_{(5)}(n_{(5)} + 1)}{2} $$\n",
    "\n",
    "The problem is that this solution is adding some multiples two times. For example, 15 is a multiple of 5 and 3 and both terms in the last expression are adding 15. However, there is a simple step to correct this and that is to subtract one time the multiples of 15.\n",
    "\n",
    "$$ sum = \\frac{n_{(3)}(n_{(3)} + 1)}{2} + \\frac{n_{(5)}(n_{(5)} + 1)}{2} - \\frac{n_{(15)}(n_{(15)} + 1)}{2} $$\n",
    "\n"
   ]
  },
  {
   "cell_type": "code",
   "execution_count": 2,
   "metadata": {},
   "outputs": [
    {
     "name": "stdout",
     "output_type": "stream",
     "text": [
      "Please input the number of test cases: 2\n",
      "10\n",
      "23\n",
      "1000\n",
      "233168\n"
     ]
    }
   ],
   "source": [
    "# Solution\n",
    "\n",
    "t = int(input('Please input the number of test cases: ').strip())\n",
    "\n",
    "for _ in range(t):\n",
    "    n = int(input().strip())\n",
    "    \n",
    "    n3 = (n - 1)//3\n",
    "    n5 = (n - 1)//5\n",
    "    n15 = (n - 1)//15\n",
    "    \n",
    "    val3 = 3*n3*(n3 + 1)//2\n",
    "    val5 = 5*n5*(n5 + 1)//2\n",
    "    val15 = 15*n15*(n15 + 1)//2\n",
    "    \n",
    "    print(val3 + val5 - val15)"
   ]
  },
  {
   "cell_type": "markdown",
   "metadata": {},
   "source": [
    "This solution takes 0.3s for one billion, and can accept multiple test cases. \n",
    "\n",
    "The sum of all the multiples of 3 or 5, below 1000, is 233168."
   ]
  }
 ],
 "metadata": {
  "kernelspec": {
   "display_name": "Python 3",
   "language": "python",
   "name": "python3"
  },
  "language_info": {
   "codemirror_mode": {
    "name": "ipython",
    "version": 3
   },
   "file_extension": ".py",
   "mimetype": "text/x-python",
   "name": "python",
   "nbconvert_exporter": "python",
   "pygments_lexer": "ipython3",
   "version": "3.8.8"
  },
  "vscode": {
   "interpreter": {
    "hash": "16cdb7ffa0a903584dfda939841482138ecea7dde9c0756c22b6eaf6758c95c7"
   }
  }
 },
 "nbformat": 4,
 "nbformat_minor": 4
}
