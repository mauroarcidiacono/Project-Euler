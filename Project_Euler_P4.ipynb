{
 "cells": [
  {
   "cell_type": "markdown",
   "metadata": {},
   "source": [
    "<h1> Project Euler: Problem 4 </h1>\n",
    "\n",
    "<p> A palindromic number reads the same both ways. The largest palindrome made from the product of two 2-digit numbers is 9009 = 91 × 99.\n",
    "\n",
    "Find the largest palindrome made from the product of two 3-digit numbers. </p>"
   ]
  },
  {
   "cell_type": "code",
   "execution_count": 1,
   "metadata": {},
   "outputs": [],
   "source": [
    "# First, I will create a list l. I will store the products of all integers between 100 and 999.\n",
    "l = [] "
   ]
  },
  {
   "cell_type": "code",
   "execution_count": 2,
   "metadata": {},
   "outputs": [],
   "source": [
    "# Use a for-loop to calculate and store in l the products of 3-digit numbers. \n",
    "for i in range(100, 1000):\n",
    "    for j in range (100, 1000):\n",
    "        s = i*j\n",
    "        l.append(s)"
   ]
  },
  {
   "cell_type": "code",
   "execution_count": 3,
   "metadata": {},
   "outputs": [],
   "source": [
    "# In the list pal, store every palindrome checking if the number reads the same both ways.\n",
    "pal = []\n",
    "for n in range(len(l)):\n",
    "    check = str(l[n])\n",
    "    if check == check[::-1]:\n",
    "        pal.append(l[n])  "
   ]
  },
  {
   "cell_type": "code",
   "execution_count": 4,
   "metadata": {},
   "outputs": [
    {
     "data": {
      "text/plain": [
       "906609"
      ]
     },
     "execution_count": 4,
     "metadata": {},
     "output_type": "execute_result"
    }
   ],
   "source": [
    "# Find the maximum number of the pal list.\n",
    "max(pal)"
   ]
  },
  {
   "cell_type": "code",
   "execution_count": 6,
   "metadata": {},
   "outputs": [
    {
     "name": "stdout",
     "output_type": "stream",
     "text": [
      "The largest palindrome made from the product of two 3-digit numbers is 906609.\n"
     ]
    }
   ],
   "source": [
    "# Print the result of the problem.\n",
    "print(\"The largest palindrome made from the product of two 3-digit numbers is \"+ str(max(pal))+\".\")"
   ]
  }
 ],
 "metadata": {
  "kernelspec": {
   "display_name": "Python 3",
   "language": "python",
   "name": "python3"
  },
  "language_info": {
   "codemirror_mode": {
    "name": "ipython",
    "version": 3
   },
   "file_extension": ".py",
   "mimetype": "text/x-python",
   "name": "python",
   "nbconvert_exporter": "python",
   "pygments_lexer": "ipython3",
   "version": "3.8.3"
  }
 },
 "nbformat": 4,
 "nbformat_minor": 4
}
