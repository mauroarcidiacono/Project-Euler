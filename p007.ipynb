{
 "cells": [
  {
   "cell_type": "markdown",
   "metadata": {},
   "source": [
    "<h1> Project Euler: Problem 7 </h1>\n",
    "\n",
    "<p>By listing the first six prime numbers: 2, 3, 5, 7, 11, and 13, we can see that the 6th prime is 13.</p>\n",
    "<p>What is the 10 001st prime number?</p>"
   ]
  },
  {
   "cell_type": "code",
   "execution_count": 14,
   "metadata": {},
   "outputs": [],
   "source": [
    "# Start by creating a list to store the prime numbers. I will define a variable called check and i to evaluate numbers as prime.\n",
    "# I will also append 2 to the prime list.\n",
    "prime = []\n",
    "check = 0\n",
    "i = 3\n",
    "prime.append(2)"
   ]
  },
  {
   "cell_type": "code",
   "execution_count": 15,
   "metadata": {},
   "outputs": [],
   "source": [
    "# With a while-loop I will only calculate until the 10001st element.\n",
    "# To reduce computational time, I will only calculate the number to be tested divided by the stored prime numbers.\n",
    "# The divisions will be done until zero remainder or a divisor bigger than the square root of the number being tested.\n",
    "while len(prime)<10001:\n",
    "    for j in prime:\n",
    "        if (j>i**0.5):\n",
    "            break\n",
    "        if (i%j)==0:\n",
    "            check = 1\n",
    "            break\n",
    "    if (check==0):\n",
    "        prime.append(i)\n",
    "    check = 0\n",
    "    i += 1"
   ]
  },
  {
   "cell_type": "code",
   "execution_count": 18,
   "metadata": {},
   "outputs": [
    {
     "name": "stdout",
     "output_type": "stream",
     "text": [
      "The 10 001st prime number is 104743.\n"
     ]
    }
   ],
   "source": [
    "# Print the solution of the problem.\n",
    "print(\"The 10 001st prime number is \"+str(prime[10000])+\".\")"
   ]
  }
 ],
 "metadata": {
  "kernelspec": {
   "display_name": "Python 3",
   "language": "python",
   "name": "python3"
  },
  "language_info": {
   "codemirror_mode": {
    "name": "ipython",
    "version": 3
   },
   "file_extension": ".py",
   "mimetype": "text/x-python",
   "name": "python",
   "nbconvert_exporter": "python",
   "pygments_lexer": "ipython3",
   "version": "3.8.3"
  }
 },
 "nbformat": 4,
 "nbformat_minor": 4
}
