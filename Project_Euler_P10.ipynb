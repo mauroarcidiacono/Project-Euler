{
 "cells": [
  {
   "cell_type": "markdown",
   "metadata": {},
   "source": [
    "<h1> Project Euler: Problem 10 </h1>\n",
    "    \n",
    "<p>The sum of the primes below 10 is 2 + 3 + 5 + 7 = 17.</p>\n",
    "<p>Find the sum of all the primes below two million.</p>"
   ]
  },
  {
   "cell_type": "code",
   "execution_count": 3,
   "metadata": {},
   "outputs": [],
   "source": [
    "# Define a prime list to store the prime numbers below two million. \n",
    "# I will define a check variable to evaluate the prime number condition.\n",
    "# n defines the upper limit of the calculation.\n",
    "# Include 2 in the prime list as a starting value.\n",
    "prime = []\n",
    "check = 0\n",
    "n = 2*10**6\n",
    "prime.append(2)"
   ]
  },
  {
   "cell_type": "code",
   "execution_count": 4,
   "metadata": {},
   "outputs": [],
   "source": [
    "# Generate a for-loop to append every prime number to the prime list.\n",
    "for i in range(3, n+1):\n",
    "    for j in prime:\n",
    "        if (j>i**0.5):\n",
    "            break\n",
    "        if (i%j)==0:\n",
    "            check = 1\n",
    "            break\n",
    "    if (check==0):\n",
    "        prime.append(i)\n",
    "    check = 0"
   ]
  },
  {
   "cell_type": "code",
   "execution_count": 6,
   "metadata": {},
   "outputs": [
    {
     "name": "stdout",
     "output_type": "stream",
     "text": [
      "The sum of all the primes below two million is 142913828922.\n"
     ]
    }
   ],
   "source": [
    "# Print the result.\n",
    "print(\"The sum of all the primes below two million is \"+str(sum(prime))+\".\")"
   ]
  }
 ],
 "metadata": {
  "kernelspec": {
   "display_name": "Python 3",
   "language": "python",
   "name": "python3"
  },
  "language_info": {
   "codemirror_mode": {
    "name": "ipython",
    "version": 3
   },
   "file_extension": ".py",
   "mimetype": "text/x-python",
   "name": "python",
   "nbconvert_exporter": "python",
   "pygments_lexer": "ipython3",
   "version": "3.8.3"
  }
 },
 "nbformat": 4,
 "nbformat_minor": 4
}
