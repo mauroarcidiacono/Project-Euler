{
 "cells": [
  {
   "cell_type": "markdown",
   "metadata": {},
   "source": [
    "<h1> Project Euler: Problem 3 </h1>\n",
    "\n",
    "<p>The prime factors of 13195 are 5, 7, 13 and 29.\n",
    "\n",
    "What is the largest prime factor of the number 600851475143? </p>"
   ]
  },
  {
   "cell_type": "code",
   "execution_count": 2,
   "metadata": {},
   "outputs": [],
   "source": [
    "# I will start by importing the math module.\n",
    "import math\n",
    "\n",
    "# Save the number of the problem in the n variable.\n",
    "n = 600851475143"
   ]
  },
  {
   "cell_type": "code",
   "execution_count": 3,
   "metadata": {},
   "outputs": [],
   "source": [
    "# Create a list to append all the prime factors. \n",
    "prime_factors = []\n",
    "\n",
    "# I will use a while-loop to divide the number by 2 until the remainder is not zero.\n",
    "while n%2 == 0:\n",
    "    prime_factors.append(2)\n",
    "    n /= 2"
   ]
  },
  {
   "cell_type": "code",
   "execution_count": 4,
   "metadata": {},
   "outputs": [],
   "source": [
    "# With a for-loop divide n by odd numbers starting with 3. The divisor will not be larger than the square root of n.\n",
    "for i in range(3, int(math.sqrt(n)),2):\n",
    "    while n%i == 0:\n",
    "        prime_factors.append(i)\n",
    "        n /= i"
   ]
  },
  {
   "cell_type": "code",
   "execution_count": 5,
   "metadata": {},
   "outputs": [
    {
     "data": {
      "text/plain": [
       "6857"
      ]
     },
     "execution_count": 5,
     "metadata": {},
     "output_type": "execute_result"
    }
   ],
   "source": [
    "# Use the max() function to find the largest prime factor.\n",
    "max(prime_factors)"
   ]
  },
  {
   "cell_type": "code",
   "execution_count": 6,
   "metadata": {},
   "outputs": [
    {
     "name": "stdout",
     "output_type": "stream",
     "text": [
      "The largest prime factor of the number 600851475143 is 6857.\n"
     ]
    }
   ],
   "source": [
    "# Print the result of the problem.\n",
    "print(\"The largest prime factor of the number 600851475143 is \"+str(max(prime_factors))+\".\")"
   ]
  }
 ],
 "metadata": {
  "kernelspec": {
   "display_name": "Python 3",
   "language": "python",
   "name": "python3"
  },
  "language_info": {
   "codemirror_mode": {
    "name": "ipython",
    "version": 3
   },
   "file_extension": ".py",
   "mimetype": "text/x-python",
   "name": "python",
   "nbconvert_exporter": "python",
   "pygments_lexer": "ipython3",
   "version": "3.8.3"
  }
 },
 "nbformat": 4,
 "nbformat_minor": 4
}
