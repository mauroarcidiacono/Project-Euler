{
 "cells": [
  {
   "cell_type": "markdown",
   "metadata": {},
   "source": [
    "<h1> Project Euler: Problem 3 </h1>\n",
    "\n",
    "<p>The prime factors of 13195 are 5, 7, 13 and 29.\n",
    "\n",
    "What is the largest prime factor of the number 600851475143? </p>"
   ]
  },
  {
   "cell_type": "code",
   "execution_count": 1,
   "metadata": {},
   "outputs": [
    {
     "name": "stdout",
     "output_type": "stream",
     "text": [
      "6857\n"
     ]
    }
   ],
   "source": [
    "def largest_prime(n):\n",
    "    max_prime = 0\n",
    "\n",
    "    while n % 2 == 0:\n",
    "        max_prime = 2\n",
    "        n //= 2\n",
    "        \n",
    "    for i in range(3, int(n**(1/2)) + 1, 2):\n",
    "        while n % i == 0:\n",
    "            max_prime = i\n",
    "            n //= i\n",
    "\n",
    "    if n == 1: \n",
    "        print(max_prime)\n",
    "    else:\n",
    "        print(n)\n",
    "\n",
    "largest_prime(600851475143)"
   ]
  }
 ],
 "metadata": {
  "kernelspec": {
   "display_name": "Python 3",
   "language": "python",
   "name": "python3"
  },
  "language_info": {
   "codemirror_mode": {
    "name": "ipython",
    "version": 3
   },
   "file_extension": ".py",
   "mimetype": "text/x-python",
   "name": "python",
   "nbconvert_exporter": "python",
   "pygments_lexer": "ipython3",
   "version": "3.8.8"
  },
  "vscode": {
   "interpreter": {
    "hash": "16cdb7ffa0a903584dfda939841482138ecea7dde9c0756c22b6eaf6758c95c7"
   }
  }
 },
 "nbformat": 4,
 "nbformat_minor": 4
}
