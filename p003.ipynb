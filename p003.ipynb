{
 "cells": [
  {
   "cell_type": "markdown",
   "metadata": {},
   "source": [
    "<h1> Project Euler: Problem 3 </h1>\n",
    "\n",
    "<p>The prime factors of 13195 are 5, 7, 13 and 29.\n",
    "\n",
    "What is the largest prime factor of the number 600851475143? </p>"
   ]
  },
  {
   "attachments": {},
   "cell_type": "markdown",
   "metadata": {},
   "source": [
    "First, I will define what a prime number is. Prime numbers are numbers that can only be divided without remainder by 1 and themselves. By the modern definition, prime numbers must be divided by at least two numbers. The sequence of the first 10 primes numbers is: 2, 3, 5, 7, 11, 13, 17, 19, 23, 29. The Fundamental Theorem of Arithmetic states that every integer can be expressed as a product of an unique set of integers. Therefore, the process to identify the largest prime factor of a number is to factorize it and the last factor will be the number I am looking for. \n",
    "\n",
    "To start, I will divide the desired number (n) as much as I can by 2 and replace n by the result of each division if possible. Then, I will iterate through the uneven numbers up to the square root of n as per the algorithm of the Sieve of Eratosthenes. In each cycle, if possible, I will replace n by the result of the division as well. If n equals to 1, the maximum prime will be the last divider. If n is not 1, n is a prime number.  "
   ]
  },
  {
   "cell_type": "code",
   "execution_count": 1,
   "metadata": {},
   "outputs": [
    {
     "name": "stdout",
     "output_type": "stream",
     "text": [
      "6857\n"
     ]
    }
   ],
   "source": [
    "def largest_prime(n):\n",
    "    max_prime = 0\n",
    "\n",
    "    while n % 2 == 0:\n",
    "        max_prime = 2\n",
    "        n //= 2\n",
    "        \n",
    "    for i in range(3, int(n**(1/2)) + 1, 2):\n",
    "        while n % i == 0:\n",
    "            max_prime = i\n",
    "            n //= i\n",
    "\n",
    "    if n == 1: \n",
    "        print(max_prime)\n",
    "    else:\n",
    "        print(n)\n",
    "\n",
    "largest_prime(600851475143)"
   ]
  }
 ],
 "metadata": {
  "kernelspec": {
   "display_name": "Python 3",
   "language": "python",
   "name": "python3"
  },
  "language_info": {
   "codemirror_mode": {
    "name": "ipython",
    "version": 3
   },
   "file_extension": ".py",
   "mimetype": "text/x-python",
   "name": "python",
   "nbconvert_exporter": "python",
   "pygments_lexer": "ipython3",
   "version": "3.8.8"
  },
  "vscode": {
   "interpreter": {
    "hash": "16cdb7ffa0a903584dfda939841482138ecea7dde9c0756c22b6eaf6758c95c7"
   }
  }
 },
 "nbformat": 4,
 "nbformat_minor": 4
}
