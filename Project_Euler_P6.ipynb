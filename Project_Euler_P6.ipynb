{
 "cells": [
  {
   "cell_type": "markdown",
   "metadata": {},
   "source": [
    "<h1> Project Euler: Problem 6 </h1>\n",
    "\n",
    "<p>The sum of the squares of the first ten natural numbers is,</p>\n",
    "$$1^2 + 2^2 + ... + 10^2 = 385$$\n",
    "<p>The square of the sum of the first ten natural numbers is,</p>\n",
    "$$(1 + 2 + ... + 10)^2 = 55^2 = 3025$$\n",
    "<p>Hence the difference between the sum of the squares of the first ten natural numbers and the square of the sum is $3025 - 385 = 2640$.</p>\n",
    "<p>Find the difference between the sum of the squares of the first one hundred natural numbers and the square of the sum.</p>"
   ]
  },
  {
   "cell_type": "code",
   "execution_count": 2,
   "metadata": {},
   "outputs": [],
   "source": [
    "# Define ss as sum of squares and sqs as square of the sum. Also, j will be used to sum the numbers in the requested range.  \n",
    "ss = 0\n",
    "sqs = 0\n",
    "j = 0"
   ]
  },
  {
   "cell_type": "code",
   "execution_count": 3,
   "metadata": {},
   "outputs": [],
   "source": [
    "# Calculate with a for-loop the values of ss and j. Then, square j to obtain sqs.\n",
    "for i in range(1, 101):\n",
    "    ss += i**2\n",
    "    j += i\n",
    "sqs = j**2"
   ]
  },
  {
   "cell_type": "code",
   "execution_count": 11,
   "metadata": {},
   "outputs": [
    {
     "name": "stdout",
     "output_type": "stream",
     "text": [
      "The sum of squares results 338350, the square of the sum is 25502500 and the difference between them is 25164150.\n"
     ]
    }
   ],
   "source": [
    "# Print the solution of the problem.\n",
    "print('The sum of squares results '+str(ss)+', the square of the sum is '+str(sqs)+' and the difference between them is '+str(sqs-ss)+'.')"
   ]
  }
 ],
 "metadata": {
  "kernelspec": {
   "display_name": "Python 3",
   "language": "python",
   "name": "python3"
  },
  "language_info": {
   "codemirror_mode": {
    "name": "ipython",
    "version": 3
   },
   "file_extension": ".py",
   "mimetype": "text/x-python",
   "name": "python",
   "nbconvert_exporter": "python",
   "pygments_lexer": "ipython3",
   "version": "3.8.3"
  }
 },
 "nbformat": 4,
 "nbformat_minor": 4
}
