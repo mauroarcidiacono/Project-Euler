{
 "cells": [
  {
   "cell_type": "markdown",
   "metadata": {},
   "source": [
    "<h1> Project Euler: Problem 5 </h1>\n",
    "\n",
    "<p> 2520 is the smallest number that can be divided by each of the numbers from 1 to 10 without any remainder.\n",
    "\n",
    "What is the smallest positive number that is evenly divisible by all of the numbers from 1 to 20? </p>"
   ]
  },
  {
   "cell_type": "code",
   "execution_count": 9,
   "metadata": {},
   "outputs": [],
   "source": [
    "# I will define n = 20 to start testing (dividing by the divisors), which is the biggest possible divisor. \n",
    "# As the number should be evenly divisible by all the numbers from 1 to 20, I can test considering steps of 20.\n",
    "# There is no need to test every number. If a number is evenly divisible by 20, it will also be divisible by 10 and 2.\n",
    "# This logic leads to the following divisors: 11, 13, 14, 16, 17, 18, 19 and 20.\n",
    "# With a while-loop, I can find the smallest positive number that is evenly divisible by all the numbers from 1 to 20\n",
    "n = 20\n",
    "while ((n%11)!=0 or (n%13)!=0 or (n%14)!=0 or (n%16)!=0 or (n%17)!=0 or (n%18)!=0 or (n%19)!=0 or (n%20)!=0):\n",
    "    n += 20"
   ]
  },
  {
   "cell_type": "code",
   "execution_count": 12,
   "metadata": {},
   "outputs": [
    {
     "name": "stdout",
     "output_type": "stream",
     "text": [
      "The smallest positive number that is evenly divisible by all of the numbers from 1 to 20 is 232792560.\n"
     ]
    }
   ],
   "source": [
    "# Print the solution of the problem.\n",
    "print (\"The smallest positive number that is evenly divisible by all of the numbers from 1 to 20 is \"+str(n)+\".\")"
   ]
  }
 ],
 "metadata": {
  "kernelspec": {
   "display_name": "Python 3 (ipykernel)",
   "language": "python",
   "name": "python3"
  },
  "language_info": {
   "codemirror_mode": {
    "name": "ipython",
    "version": 3
   },
   "file_extension": ".py",
   "mimetype": "text/x-python",
   "name": "python",
   "nbconvert_exporter": "python",
   "pygments_lexer": "ipython3",
   "version": "3.8.13"
  }
 },
 "nbformat": 4,
 "nbformat_minor": 4
}
