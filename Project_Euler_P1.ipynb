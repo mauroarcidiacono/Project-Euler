{
 "cells": [
  {
   "cell_type": "markdown",
   "metadata": {},
   "source": [
    "<h1>Project Euler: Problem 1</h1>\n",
    "\n",
    "<p>If we list all the natural numbers below 10 that are multiples of 3 or 5, we get 3, 5, 6 and 9. The sum of these multiples is 23.</p>\n",
    "<p>Find the sum of all the multiples of 3 or 5 below 1000.</p>"
   ]
  },
  {
   "cell_type": "code",
   "execution_count": 1,
   "metadata": {},
   "outputs": [],
   "source": [
    "# To solve this problem, I will first create a list to store all the multiples.\n",
    "multiples = []"
   ]
  },
  {
   "cell_type": "code",
   "execution_count": 2,
   "metadata": {},
   "outputs": [],
   "source": [
    "# With a for-loop and using if statements I will append to the list every number that is divisible by 3 and 5.\n",
    "for i in range(3, 1001):\n",
    "    if (i%3)==0:\n",
    "        multiples.append(i)\n",
    "    elif (i%5)==0:\n",
    "        multiples.append(i)"
   ]
  },
  {
   "cell_type": "code",
   "execution_count": 3,
   "metadata": {},
   "outputs": [],
   "source": [
    "# Using the Python inbuilt function sum(), I will store the sum of the list numbers in the variable \"result\". \n",
    "result = sum(multiples)"
   ]
  },
  {
   "cell_type": "code",
   "execution_count": 5,
   "metadata": {},
   "outputs": [
    {
     "name": "stdout",
     "output_type": "stream",
     "text": [
      "The sum of all the multiples of 3 or 5, below 1000, is 234168.\n"
     ]
    }
   ],
   "source": [
    "# Finally, I print the result of the problem.\n",
    "print(\"The sum of all the multiples of 3 or 5, below 1000, is \"+str(result)+\".\")"
   ]
  }
 ],
 "metadata": {
  "kernelspec": {
   "display_name": "Python 3",
   "language": "python",
   "name": "python3"
  },
  "language_info": {
   "codemirror_mode": {
    "name": "ipython",
    "version": 3
   },
   "file_extension": ".py",
   "mimetype": "text/x-python",
   "name": "python",
   "nbconvert_exporter": "python",
   "pygments_lexer": "ipython3",
   "version": "3.8.3"
  }
 },
 "nbformat": 4,
 "nbformat_minor": 4
}
