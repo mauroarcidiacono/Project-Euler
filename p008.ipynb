{
 "cells": [
  {
   "cell_type": "markdown",
   "metadata": {},
   "source": [
    "<h1> Project Euler: Problem 8 </h1>\n",
    "    \n",
    "<p>The four adjacent digits in the 1000-digit number that have the greatest product are 9 × 9 × 8 × 9 = 5832.</p>\n",
    "<p class=\"monospace center\" style=\"text-align: center;\">\n",
    "73167176531330624919225119674426574742355349194934<br />\n",
    "96983520312774506326239578318016984801869478851843<br />\n",
    "85861560789112949495459501737958331952853208805511<br />\n",
    "12540698747158523863050715693290963295227443043557<br />\n",
    "66896648950445244523161731856403098711121722383113<br />\n",
    "62229893423380308135336276614282806444486645238749<br />\n",
    "30358907296290491560440772390713810515859307960866<br />\n",
    "70172427121883998797908792274921901699720888093776<br />\n",
    "65727333001053367881220235421809751254540594752243<br />\n",
    "52584907711670556013604839586446706324415722155397<br />\n",
    "53697817977846174064955149290862569321978468622482<br />\n",
    "83972241375657056057490261407972968652414535100474<br />\n",
    "82166370484403199890008895243450658541227588666881<br />\n",
    "16427171479924442928230863465674813919123162824586<br />\n",
    "17866458359124566529476545682848912883142607690042<br />\n",
    "24219022671055626321111109370544217506941658960408<br />\n",
    "07198403850962455444362981230987879927244284909188<br />\n",
    "84580156166097919133875499200524063689912560717606<br />\n",
    "05886116467109405077541002256983155200055935729725<br />\n",
    "71636269561882670428252483600823257530420752963450<br /></p>\n",
    "<p>Find the thirteen adjacent digits in the 1000-digit number that have the greatest product. What is the value of this product?</p>"
   ]
  },
  {
   "cell_type": "code",
   "execution_count": 26,
   "metadata": {},
   "outputs": [],
   "source": [
    "# I will start by saving the number in a variable called number.\n",
    "number = 7316717653133062491922511967442657474235534919493496983520312774506326239578318016984801869478851843858615607891129494954595017379583319528532088055111254069874715852386305071569329096329522744304355766896648950445244523161731856403098711121722383113622298934233803081353362766142828064444866452387493035890729629049156044077239071381051585930796086670172427121883998797908792274921901699720888093776657273330010533678812202354218097512545405947522435258490771167055601360483958644670632441572215539753697817977846174064955149290862569321978468622482839722413756570560574902614079729686524145351004748216637048440319989000889524345065854122758866688116427171479924442928230863465674813919123162824586178664583591245665294765456828489128831426076900422421902267105562632111110937054421750694165896040807198403850962455444362981230987879927244284909188845801561660979191338754992005240636899125607176060588611646710940507754100225698315520005593572972571636269561882670428252483600823257530420752963450"
   ]
  },
  {
   "cell_type": "code",
   "execution_count": 32,
   "metadata": {},
   "outputs": [
    {
     "data": {
      "text/plain": [
       "1000"
      ]
     },
     "execution_count": 32,
     "metadata": {},
     "output_type": "execute_result"
    }
   ],
   "source": [
    "# Transform the number into a string. I check its length applying the len() function.\n",
    "num = str(number)\n",
    "len(num)"
   ]
  },
  {
   "cell_type": "code",
   "execution_count": 33,
   "metadata": {},
   "outputs": [],
   "source": [
    "# Define variables r (result) and c (calculation). With a for-loop and an if statement find the highest c.\n",
    "r = 0\n",
    "c = 1\n",
    "for i in range (0, 988):\n",
    "    for j in range (i, i+13):\n",
    "        c *= int(num[j])\n",
    "    if c>r:\n",
    "        r = c\n",
    "    c = 1"
   ]
  },
  {
   "cell_type": "code",
   "execution_count": 34,
   "metadata": {},
   "outputs": [
    {
     "name": "stdout",
     "output_type": "stream",
     "text": [
      "The value of the thirteen adjacent digits in the 1000-digit number that have the greatest product is 23514624000.\n"
     ]
    }
   ],
   "source": [
    "# Print the result\n",
    "print(\"The value of the thirteen adjacent digits in the 1000-digit number that have the greatest product is \"+str(r)+\".\")"
   ]
  }
 ],
 "metadata": {
  "kernelspec": {
   "display_name": "Python 3",
   "language": "python",
   "name": "python3"
  },
  "language_info": {
   "codemirror_mode": {
    "name": "ipython",
    "version": 3
   },
   "file_extension": ".py",
   "mimetype": "text/x-python",
   "name": "python",
   "nbconvert_exporter": "python",
   "pygments_lexer": "ipython3",
   "version": "3.8.3"
  }
 },
 "nbformat": 4,
 "nbformat_minor": 4
}
